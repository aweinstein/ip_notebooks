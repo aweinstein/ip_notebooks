{
 "metadata": {
  "name": "matrix_mul"
 },
 "nbformat": 3,
 "nbformat_minor": 0,
 "worksheets": [
  {
   "cells": [
    {
     "cell_type": "heading",
     "level": 1,
     "metadata": {},
     "source": [
      "Matrix multiplication and indexing"
     ]
    },
    {
     "cell_type": "markdown",
     "metadata": {},
     "source": [
      "Let see for which cases matrix multiplication and matrix indexing are commutative operations."
     ]
    },
    {
     "cell_type": "code",
     "collapsed": false,
     "input": [
      "import numpy as np\n",
      "np.set_printoptions(precision=2)\n",
      "np.random.seed(42) \n",
      "A = np.random.rand(4, 5)\n",
      "B = np.random.rand(5, 4)"
     ],
     "language": "python",
     "metadata": {},
     "outputs": [],
     "prompt_number": 35
    },
    {
     "cell_type": "markdown",
     "metadata": {},
     "source": [
      "Let $I$ and $J$ be index sets, let $M$ be a matrix, let $M_{I,J}$ be the submatrix indexed by the cartesian product $I \\times J$, let $M_{I,:}$ be the submatrix indexed by the rows of $M$, and let $M_{:,J}$ be the submatrix indexed by the rows of $M$."
     ]
    },
    {
     "cell_type": "code",
     "collapsed": false,
     "input": [
      "AB = np.dot(A, B)\n",
      "AB"
     ],
     "language": "python",
     "metadata": {},
     "outputs": [
      {
       "output_type": "pyout",
       "prompt_number": 36,
       "text": [
        "array([[ 1.18,  1.42,  1.43,  1.3 ],\n",
        "       [ 0.89,  0.75,  1.65,  1.03],\n",
        "       [ 1.02,  1.02,  1.03,  0.9 ],\n",
        "       [ 0.68,  0.73,  1.05,  0.79]])"
       ]
      }
     ],
     "prompt_number": 36
    },
    {
     "cell_type": "code",
     "collapsed": false,
     "input": [
      "I = [0,2]\n",
      "J = [1,3]\n",
      "IJ = np.ix_(I,J) # M[ix] is M_{I,J}\n",
      "II = np.ix_(I,I)\n",
      "JJ = np.ix_(J,J)"
     ],
     "language": "python",
     "metadata": {},
     "outputs": [],
     "prompt_number": 37
    },
    {
     "cell_type": "markdown",
     "metadata": {},
     "source": [
      "(i) $(AB)_{I,J} \\neq A_{I,J} B_{I,J}$"
     ]
    },
    {
     "cell_type": "code",
     "collapsed": false,
     "input": [
      "AB[IJ]"
     ],
     "language": "python",
     "metadata": {},
     "outputs": [
      {
       "output_type": "pyout",
       "prompt_number": 38,
       "text": [
        "array([[ 1.42,  1.3 ],\n",
        "       [ 1.02,  0.9 ]])"
       ]
      }
     ],
     "prompt_number": 38
    },
    {
     "cell_type": "code",
     "collapsed": false,
     "input": [
      "np.dot(A[IJ], B[IJ])"
     ],
     "language": "python",
     "metadata": {},
     "outputs": [
      {
       "output_type": "pyout",
       "prompt_number": 39,
       "text": [
        "array([[ 0.16,  0.45],\n",
        "       [ 0.15,  0.39]])"
       ]
      }
     ],
     "prompt_number": 39
    },
    {
     "cell_type": "markdown",
     "metadata": {},
     "source": [
      "(ii) $A_{I,:} B = (AB)_{I,:}$"
     ]
    },
    {
     "cell_type": "code",
     "collapsed": false,
     "input": [
      "np.dot(A[I,:],B)"
     ],
     "language": "python",
     "metadata": {},
     "outputs": [
      {
       "output_type": "pyout",
       "prompt_number": 40,
       "text": [
        "array([[ 1.18,  1.42,  1.43,  1.3 ],\n",
        "       [ 1.02,  1.02,  1.03,  0.9 ]])"
       ]
      }
     ],
     "prompt_number": 40
    },
    {
     "cell_type": "code",
     "collapsed": false,
     "input": [
      "AB[I,:]"
     ],
     "language": "python",
     "metadata": {},
     "outputs": [
      {
       "output_type": "pyout",
       "prompt_number": 41,
       "text": [
        "array([[ 1.18,  1.42,  1.43,  1.3 ],\n",
        "       [ 1.02,  1.02,  1.03,  0.9 ]])"
       ]
      }
     ],
     "prompt_number": 41
    },
    {
     "cell_type": "markdown",
     "metadata": {},
     "source": [
      "(iii) $AB_{:,J} = (AB)_{:,J}$"
     ]
    },
    {
     "cell_type": "code",
     "collapsed": false,
     "input": [
      "np.dot(A, B[:,J])"
     ],
     "language": "python",
     "metadata": {},
     "outputs": [
      {
       "output_type": "pyout",
       "prompt_number": 42,
       "text": [
        "array([[ 1.42,  1.3 ],\n",
        "       [ 0.75,  1.03],\n",
        "       [ 1.02,  0.9 ],\n",
        "       [ 0.73,  0.79]])"
       ]
      }
     ],
     "prompt_number": 42
    },
    {
     "cell_type": "code",
     "collapsed": false,
     "input": [
      "AB[:,J]"
     ],
     "language": "python",
     "metadata": {},
     "outputs": [
      {
       "output_type": "pyout",
       "prompt_number": 43,
       "text": [
        "array([[ 1.42,  1.3 ],\n",
        "       [ 0.75,  1.03],\n",
        "       [ 1.02,  0.9 ],\n",
        "       [ 0.73,  0.79]])"
       ]
      }
     ],
     "prompt_number": 43
    },
    {
     "cell_type": "markdown",
     "metadata": {},
     "source": [
      "(iv) $A_{I,:}B_{:,I}  = (AB)_{I,I}$"
     ]
    },
    {
     "cell_type": "code",
     "collapsed": false,
     "input": [
      "np.dot(A[I,:],B[:,I])"
     ],
     "language": "python",
     "metadata": {},
     "outputs": [
      {
       "output_type": "pyout",
       "prompt_number": 44,
       "text": [
        "array([[ 1.18,  1.43],\n",
        "       [ 1.02,  1.03]])"
       ]
      }
     ],
     "prompt_number": 44
    },
    {
     "cell_type": "code",
     "collapsed": false,
     "input": [
      "AB[II]"
     ],
     "language": "python",
     "metadata": {},
     "outputs": [
      {
       "output_type": "pyout",
       "prompt_number": 45,
       "text": [
        "array([[ 1.18,  1.43],\n",
        "       [ 1.02,  1.03]])"
       ]
      }
     ],
     "prompt_number": 45
    },
    {
     "cell_type": "markdown",
     "metadata": {},
     "source": [
      "(v) $M_{I,:}^T M_{I,:} \\neq (M^T M)_{I,I} $"
     ]
    },
    {
     "cell_type": "code",
     "collapsed": false,
     "input": [
      "M = A\n",
      "np.dot(M[I,:].T, M[I,:])"
     ],
     "language": "python",
     "metadata": {},
     "outputs": [
      {
       "output_type": "pyout",
       "prompt_number": 46,
       "text": [
        "array([[ 0.14,  0.38,  0.29,  0.23,  0.06],\n",
        "       [ 0.38,  1.84,  1.5 ,  0.78,  0.32],\n",
        "       [ 0.29,  1.5 ,  1.23,  0.61,  0.27],\n",
        "       [ 0.23,  0.78,  0.61,  0.4 ,  0.13],\n",
        "       [ 0.06,  0.32,  0.27,  0.13,  0.06]])"
       ]
      }
     ],
     "prompt_number": 46
    },
    {
     "cell_type": "code",
     "collapsed": false,
     "input": [
      "MTM = np.dot(M.T, M)\n",
      "M[II]"
     ],
     "language": "python",
     "metadata": {},
     "outputs": [
      {
       "output_type": "pyout",
       "prompt_number": 48,
       "text": [
        "array([[ 0.37,  0.73],\n",
        "       [ 0.02,  0.83]])"
       ]
      }
     ],
     "prompt_number": 48
    },
    {
     "cell_type": "code",
     "collapsed": false,
     "input": [
      "A.shape"
     ],
     "language": "python",
     "metadata": {},
     "outputs": [
      {
       "output_type": "pyout",
       "prompt_number": 49,
       "text": [
        "(4, 5)"
       ]
      }
     ],
     "prompt_number": 49
    },
    {
     "cell_type": "code",
     "collapsed": false,
     "input": [
      "I"
     ],
     "language": "python",
     "metadata": {},
     "outputs": [
      {
       "output_type": "pyout",
       "prompt_number": 50,
       "text": [
        "[0, 2]"
       ]
      }
     ],
     "prompt_number": 50
    },
    {
     "cell_type": "code",
     "collapsed": false,
     "input": [
      "np.dot(M, M.T)"
     ],
     "language": "python",
     "metadata": {},
     "outputs": [
      {
       "output_type": "pyout",
       "prompt_number": 53,
       "text": [
        "array([[ 1.96,  1.22,  1.69,  1.05],\n",
        "       [ 1.22,  1.64,  1.04,  0.97],\n",
        "       [ 1.69,  1.04,  1.71,  0.88],\n",
        "       [ 1.05,  0.97,  0.88,  0.67]])"
       ]
      }
     ],
     "prompt_number": 53
    },
    {
     "cell_type": "code",
     "collapsed": false,
     "input": [],
     "language": "python",
     "metadata": {},
     "outputs": []
    }
   ],
   "metadata": {}
  }
 ]
}