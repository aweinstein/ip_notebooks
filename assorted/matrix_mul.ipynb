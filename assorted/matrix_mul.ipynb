{
 "metadata": {
  "name": "matrix_mul"
 },
 "nbformat": 3,
 "nbformat_minor": 0,
 "worksheets": [
  {
   "cells": [
    {
     "cell_type": "heading",
     "level": 1,
     "metadata": {},
     "source": [
      "Matrix multiplication and indexing"
     ]
    },
    {
     "cell_type": "markdown",
     "metadata": {},
     "source": [
      "Let see for which cases matrix multiplication and matrix indexing are commutative operations."
     ]
    },
    {
     "cell_type": "code",
     "collapsed": false,
     "input": [
      "import numpy as np\n",
      "np.set_printoptions(precision=2)\n",
      "np.random.seed(42) \n",
      "A = np.random.rand(4, 5)\n",
      "B = np.random.rand(5, 4)"
     ],
     "language": "python",
     "metadata": {},
     "outputs": [],
     "prompt_number": 1
    },
    {
     "cell_type": "markdown",
     "metadata": {},
     "source": [
      "Let $I$ and $J$ be index sets, let $M$ be a matrix, let $M_{I,J}$ be the submatrix indexed by the cartesian product $I \\times J$, let $M_I$ be the submatrix indexed by the rows of $M$, and let $M_J$ be the submatrix indexed by the rows of $M$."
     ]
    },
    {
     "cell_type": "markdown",
     "metadata": {},
     "source": [
      "(i) $(AB)_{I,J} \\neq A_{I,J} B_{I,J}$"
     ]
    },
    {
     "cell_type": "code",
     "collapsed": false,
     "input": [
      "AB = np.dot(A, B)\n",
      "AB"
     ],
     "language": "python",
     "metadata": {},
     "outputs": [
      {
       "output_type": "pyout",
       "prompt_number": 2,
       "text": [
        "array([[ 1.18,  1.42,  1.43,  1.3 ],\n",
        "       [ 0.89,  0.75,  1.65,  1.03],\n",
        "       [ 1.02,  1.02,  1.03,  0.9 ],\n",
        "       [ 0.68,  0.73,  1.05,  0.79]])"
       ]
      }
     ],
     "prompt_number": 2
    },
    {
     "cell_type": "code",
     "collapsed": false,
     "input": [
      "I = [0,2]\n",
      "J = [1,3]\n",
      "ix = np.ix_(I,J)\n",
      "AB[ix]"
     ],
     "language": "python",
     "metadata": {},
     "outputs": [
      {
       "output_type": "pyout",
       "prompt_number": 3,
       "text": [
        "array([[ 1.42,  1.3 ],\n",
        "       [ 1.02,  0.9 ]])"
       ]
      }
     ],
     "prompt_number": 3
    },
    {
     "cell_type": "code",
     "collapsed": false,
     "input": [
      "np.dot(A[ix], B[ix])"
     ],
     "language": "python",
     "metadata": {},
     "outputs": [
      {
       "output_type": "pyout",
       "prompt_number": 4,
       "text": [
        "array([[ 0.16,  0.45],\n",
        "       [ 0.15,  0.39]])"
       ]
      }
     ],
     "prompt_number": 4
    },
    {
     "cell_type": "markdown",
     "metadata": {},
     "source": [
      "(ii) $A_I B = (AB)_I$"
     ]
    },
    {
     "cell_type": "code",
     "collapsed": false,
     "input": [
      "np.dot(A[I,:],B)"
     ],
     "language": "python",
     "metadata": {},
     "outputs": [
      {
       "output_type": "pyout",
       "prompt_number": 5,
       "text": [
        "array([[ 1.18,  1.42,  1.43,  1.3 ],\n",
        "       [ 1.02,  1.02,  1.03,  0.9 ]])"
       ]
      }
     ],
     "prompt_number": 5
    },
    {
     "cell_type": "code",
     "collapsed": false,
     "input": [
      "AB[I,:]"
     ],
     "language": "python",
     "metadata": {},
     "outputs": [
      {
       "output_type": "pyout",
       "prompt_number": 6,
       "text": [
        "array([[ 1.18,  1.42,  1.43,  1.3 ],\n",
        "       [ 1.02,  1.02,  1.03,  0.9 ]])"
       ]
      }
     ],
     "prompt_number": 6
    },
    {
     "cell_type": "markdown",
     "metadata": {},
     "source": [
      "(iii) $AB_J = (AB)_J$"
     ]
    },
    {
     "cell_type": "code",
     "collapsed": false,
     "input": [
      "np.dot(A, B[:,J])"
     ],
     "language": "python",
     "metadata": {},
     "outputs": [
      {
       "output_type": "pyout",
       "prompt_number": 7,
       "text": [
        "array([[ 1.42,  1.3 ],\n",
        "       [ 0.75,  1.03],\n",
        "       [ 1.02,  0.9 ],\n",
        "       [ 0.73,  0.79]])"
       ]
      }
     ],
     "prompt_number": 7
    },
    {
     "cell_type": "code",
     "collapsed": false,
     "input": [
      "AB[:,J]"
     ],
     "language": "python",
     "metadata": {},
     "outputs": [
      {
       "output_type": "pyout",
       "prompt_number": 8,
       "text": [
        "array([[ 1.42,  1.3 ],\n",
        "       [ 0.75,  1.03],\n",
        "       [ 1.02,  0.9 ],\n",
        "       [ 0.73,  0.79]])"
       ]
      }
     ],
     "prompt_number": 8
    },
    {
     "cell_type": "markdown",
     "metadata": {},
     "source": [
      "(iv) $A_IB_I  = (AB)_{I,I}$"
     ]
    },
    {
     "cell_type": "code",
     "collapsed": false,
     "input": [
      "np.dot(A[I,:],B[:,I])"
     ],
     "language": "python",
     "metadata": {},
     "outputs": [
      {
       "output_type": "pyout",
       "prompt_number": 9,
       "text": [
        "array([[ 1.18,  1.43],\n",
        "       [ 1.02,  1.03]])"
       ]
      }
     ],
     "prompt_number": 9
    },
    {
     "cell_type": "code",
     "collapsed": false,
     "input": [
      "AB[np.ix_(I,I)]"
     ],
     "language": "python",
     "metadata": {},
     "outputs": [
      {
       "output_type": "pyout",
       "prompt_number": 10,
       "text": [
        "array([[ 1.18,  1.43],\n",
        "       [ 1.02,  1.03]])"
       ]
      }
     ],
     "prompt_number": 10
    },
    {
     "cell_type": "code",
     "collapsed": false,
     "input": [],
     "language": "python",
     "metadata": {},
     "outputs": [],
     "prompt_number": 10
    }
   ],
   "metadata": {}
  }
 ]
}