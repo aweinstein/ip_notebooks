{
 "metadata": {
  "name": "sparse_matrix"
 },
 "nbformat": 3,
 "nbformat_minor": 0,
 "worksheets": [
  {
   "cells": [
    {
     "cell_type": "code",
     "collapsed": false,
     "input": [
      "import numpy as np\n",
      "from scipy.sparse import csr_matrix\n",
      "import matplotlib.pyplot as plt\n",
      "N = 1000\n",
      "S = 0.1 * (N**2)\n",
      "A = np.zeros(N**2)\n",
      "B = np.zeros(N**2)\n",
      "I1 = np.random.permutation(range(N**2))[:S]\n",
      "I2 = np.random.permutation(range(N**2))[:S]\n",
      "A[I1] = np.random.rand(S)\n",
      "B[I2] = np.random.rand(S)\n",
      "A.resize((N,N))\n",
      "B.resize((N,N))\n",
      "As = csr_matrix(A)\n",
      "Bs = csr_matrix(B)"
     ],
     "language": "python",
     "metadata": {},
     "outputs": [],
     "prompt_number": 38
    },
    {
     "cell_type": "code",
     "collapsed": false,
     "input": [
      "timeit np.dot(A,B)"
     ],
     "language": "python",
     "metadata": {},
     "outputs": [
      {
       "output_type": "stream",
       "stream": "stdout",
       "text": [
        "10 loops, best of 3: 112 ms per loop\n"
       ]
      }
     ],
     "prompt_number": 39
    },
    {
     "cell_type": "code",
     "collapsed": false,
     "input": [
      "timeit As*Bs"
     ],
     "language": "python",
     "metadata": {},
     "outputs": [
      {
       "output_type": "stream",
       "stream": "stdout",
       "text": [
        "10 loops, best of 3: 47.3 ms per loop\n"
       ]
      }
     ],
     "prompt_number": 40
    },
    {
     "cell_type": "code",
     "collapsed": false,
     "input": [
      "np.allclose(np.dot(A,B), (As*Bs).todense())"
     ],
     "language": "python",
     "metadata": {},
     "outputs": [
      {
       "output_type": "pyout",
       "prompt_number": 35,
       "text": [
        "True"
       ]
      }
     ],
     "prompt_number": 35
    },
    {
     "cell_type": "code",
     "collapsed": false,
     "input": [],
     "language": "python",
     "metadata": {},
     "outputs": []
    }
   ],
   "metadata": {}
  }
 ]
}